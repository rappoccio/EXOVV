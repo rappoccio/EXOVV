{
 "cells": [
  {
   "cell_type": "markdown",
   "metadata": {},
   "source": [
    "# Compare uncertainties from old framework and updated framework\n",
    "\n",
    "Here is the script to assemble the unfolded results from `2DData_expunc.root` and `2DClosure_expunc.root` and make the final plots of the analysis. \n",
    "\n",
    "Note: You have to access the files through cernbox as they are too large for github. \n",
    "\n",
    "https://cernbox.cern.ch/cernbox/desktop/index.php/s/rsYvLcidoUFEKV0\n",
    "\n",
    "https://cernbox.cern.ch/cernbox/desktop/index.php/s/DsRRXR9bEKOGzoU\n",
    "\n"
   ]
  },
  {
   "cell_type": "code",
   "execution_count": null,
   "metadata": {},
   "outputs": [],
   "source": [
    "import ROOT\n",
    "from Unfolder import *\n",
    "\n",
    "ROOT.gROOT.Macro(\"rootlogon.C\")\n",
    "\n"
   ]
  },
  {
   "cell_type": "code",
   "execution_count": null,
   "metadata": {
    "collapsed": true
   },
   "outputs": [],
   "source": [
    "ROOT.gStyle.SetOptStat(000000)\n",
    "ROOT.gStyle.SetTitleOffset(1.0, \"Y\");\n",
    "ROOT.gStyle.SetPadRightMargin(0.15)\n",
    "ROOT.gStyle.SetTitleFont(43,\"XYZ\")\n",
    "ROOT.gStyle.SetTitleSize(30,\"XYZ\")\n",
    "ROOT.gStyle.SetTitleOffset(1.0, \"X\")\n",
    "ROOT.gStyle.SetTitleOffset(0.8, \"Y\")\n",
    "ROOT.gStyle.SetLabelFont(43,\"XYZ\")\n",
    "ROOT.gStyle.SetLabelSize(22,\"XYZ\")\n",
    "\n"
   ]
  },
  {
   "cell_type": "code",
   "execution_count": null,
   "metadata": {
    "collapsed": true
   },
   "outputs": [],
   "source": [
    "# Note : The old numbering scheme starts from 0, new starts from 1\n",
    "\n",
    "oldfile = ROOT.TFile('mcvariations_softdrop_4.root')\n",
    "newfile = ROOT.TFile('uncertainties_softdrop5.root')"
   ]
  },
  {
   "cell_type": "code",
   "execution_count": null,
   "metadata": {
    "collapsed": true
   },
   "outputs": [],
   "source": [
    "sysvars = ['jec', 'jer', 'jmr', 'jms', 'pu', 'lum', 'pdf', 'ps', 'stat']"
   ]
  },
  {
   "cell_type": "code",
   "execution_count": null,
   "metadata": {
    "collapsed": true
   },
   "outputs": [],
   "source": [
    "c_old = oldfile.Get(\"cdist4SD\")\n",
    "\n",
    "hists_old = dict( zip( sysvars , [\n",
    "    c_old.GetPrimitive('mcvariations_softdrop_jes'),\n",
    "    c_old.GetPrimitive('mcvariations_softdrop_jer'),\n",
    "    c_old.GetPrimitive('mcvariations_softdrop_jmr'),\n",
    "    c_old.GetPrimitive('mcvariations_softdrop_jms'),\n",
    "    c_old.GetPrimitive('mcvariations_softdrop_pu'),    \n",
    "    c_old.GetPrimitive('mcvariations_softdrop_stat'),    \n",
    "    c_old.GetPrimitive('mcvariations_softdrop_pdf'),\n",
    "    c_old.GetPrimitive('mcvariations_softdrop_ps'),    \n",
    "    c_old.GetPrimitive('mcvariations_softdrop_stat'),    \n",
    "]))"
   ]
  },
  {
   "cell_type": "code",
   "execution_count": null,
   "metadata": {},
   "outputs": [],
   "source": [
    "c_new = newfile.Get(\"cunc5softdrop\")\n",
    "\n",
    "hists_new = dict( zip( sysvars , c_new.GetPrimitive(\"2d_response_softdrop_nomnom__jec_uncstack5\").GetHists()))\n",
    "\n",
    "hists_new"
   ]
  },
  {
   "cell_type": "code",
   "execution_count": null,
   "metadata": {},
   "outputs": [],
   "source": [
    "canvs = []\n",
    "stacks = []\n",
    "\n",
    "for isys in sysvars :\n",
    "    c = ROOT.TCanvas(\"canv_\" + isys, \"canv_\" + isys)\n",
    "    s = ROOT.THStack(\"stack_\" + isys, 'Sys=' + isys + ';Jet Mass;Uncertainty')\n",
    "    hold = hists_old[isys]\n",
    "    hnew = hists_new[isys]\n",
    "    hold.SetLineStyle(1)\n",
    "    hold.SetLineColor(1)\n",
    "    hnew.SetLineStyle(2)\n",
    "    hnew.SetLineColor(2)\n",
    "    s.Add(hold)\n",
    "    s.Add(hnew)\n",
    "    s.Draw(\"nostack hist\")\n",
    "    s.GetXaxis().SetRangeUser(10.,1000.)\n",
    "    c.SetLogx()\n",
    "    c.Draw()    \n",
    "    canvs.append(c)\n",
    "    stacks.append(s)"
   ]
  },
  {
   "cell_type": "code",
   "execution_count": null,
   "metadata": {
    "collapsed": true
   },
   "outputs": [],
   "source": []
  }
 ],
 "metadata": {
  "kernelspec": {
   "display_name": "Python 2",
   "language": "python",
   "name": "python2"
  },
  "language_info": {
   "codemirror_mode": {
    "name": "ipython",
    "version": 2
   },
   "file_extension": ".py",
   "mimetype": "text/x-python",
   "name": "python",
   "nbconvert_exporter": "python",
   "pygments_lexer": "ipython2",
   "version": "2.7.10"
  }
 },
 "nbformat": 4,
 "nbformat_minor": 2
}
