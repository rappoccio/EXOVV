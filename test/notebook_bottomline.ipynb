{
 "cells": [
  {
   "cell_type": "markdown",
   "metadata": {},
   "source": [
    "# Perform bottom line test for SMP-16-010\n",
    "\n",
    "We will follow stat comm recommendations here: \n",
    "\n",
    "https://twiki.cern.ch/twiki/bin/viewauth/CMS/ScrecUnfolding\n",
    "\n",
    "If we define $r$ to be the reconstructed MC, $R$ to be the response matrix, $g$ to be the generator-level truth, $u$ to be the unfolded reconstructed MC, $\\sigma$ to be the uncertainties returned by the unfolding, $cov$ to be the covariance matrix of the inputs, and $|\\cdot|^2$ denotes the L1 norm, we compute:\n",
    "\n",
    "\n",
    "- $\\chi^2_{smeared} = |(r - Rg)/\\sqrt{cov}|^2$\n",
    "- $\\chi^2_{unfolded} = |(u - g)/\\sigma|^2$"
   ]
  },
  {
   "cell_type": "markdown",
   "metadata": {},
   "source": [
    "## Set up the response matrices and vectors"
   ]
  },
  {
   "cell_type": "code",
   "execution_count": 1,
   "metadata": {},
   "outputs": [
    {
     "name": "stdout",
     "output_type": "stream",
     "text": [
      "Welcome to JupyROOT 6.10/08\n"
     ]
    }
   ],
   "source": [
    "import ROOT\n",
    "ROOT.gSystem.Load(\"RooUnfold/libRooUnfold\")\n",
    "import math\n",
    "\n",
    "from ROOT import gRandom, TH1, cout, TH2, TLegend, TFile\n",
    "from ROOT import RooUnfoldResponse\n",
    "from ROOT import RooUnfold\n",
    "from ROOT import RooUnfoldBayes\n",
    "from ROOT import TCanvas\n",
    "\n",
    "from HistDriver import *\n",
    "ROOT.gStyle.SetPadRightMargin(0.2)\n",
    "ROOT.gStyle.SetOptStat(000000)\n",
    "\n",
    "histDriver = HistDriver()\n",
    "\n",
    "extension = ''\n",
    "\n",
    "mcfile = TFile('responses_rejec_tightgen_otherway_qcdmc_2dplots.root')\n",
    "datafile = TFile('jetht_weighted_dataplots_otherway_rejec.root')\n",
    "\n",
    "response = mcfile.Get('2d_response'+ extension)\n",
    "responseSD = mcfile.Get('2d_response_softdrop' + extension)\n",
    "\n",
    "truth = mcfile.Get('PFJet_pt_m_AK8Gen')\n",
    "truthSD = mcfile.Get('PFJet_pt_m_AK8SDgen')\n",
    "reco = mcfile.Get('PFJet_pt_m_AK8')\n",
    "recoSD = mcfile.Get('PFJet_pt_m_AK8SD')\n",
    "\n",
    "truth.SetTitle(\"Generator mass vs p_{T};Mass (GeV);p_{T} (GeV)\")\n",
    "\n",
    "unfold = RooUnfoldBayes(response, reco, 4)    \n",
    "unfoldSD = RooUnfoldBayes(responseSD, recoSD, 4)\n",
    "\n"
   ]
  },
  {
   "cell_type": "markdown",
   "metadata": {},
   "source": [
    "## Perform the unfolding, get the various matrices and vectors"
   ]
  },
  {
   "cell_type": "code",
   "execution_count": 2,
   "metadata": {},
   "outputs": [
    {
     "name": "stdout",
     "output_type": "stream",
     "text": [
      "Add truth bin for 382.997 fakes\n",
      "Now unfolding...\n",
      "Iteration : 0\n",
      "Chi^2 of change 4.09551\n",
      "Iteration : 1\n",
      "Chi^2 of change 0.801359\n",
      "Iteration : 2\n",
      "Chi^2 of change 0.452371\n",
      "Iteration : 3\n",
      "Chi^2 of change 0.296706\n",
      "Calculating covariances due to number of measured events\n",
      "Add truth bin for 381.188 fakes\n",
      "Now unfolding...\n",
      "Iteration : 0\n",
      "Chi^2 of change 2.86135\n",
      "Iteration : 1\n",
      "Chi^2 of change 0.594219\n",
      "Iteration : 2\n",
      "Chi^2 of change 0.209456\n",
      "Iteration : 3\n",
      "Chi^2 of change 0.0903616\n",
      "Calculating covariances due to number of measured events\n"
     ]
    }
   ],
   "source": [
    "\n",
    "reco_unfolded = unfold.Vreco()\n",
    "reco_det = unfold.Vmeasured()\n",
    "response = unfold.response()\n",
    "mresponse = response.Mresponse()\n",
    "truthV = response.Vtruth()\n",
    "truth_foldedV = ROOT.TVectorD(truthV)\n",
    "truth_foldedV *= mresponse\n",
    "errs = unfold.Ereco()\n",
    "errsV = unfold.ErecoV(2)\n",
    "\n",
    "reco_unfoldedSD = unfoldSD.Vreco()\n",
    "reco_detSD = unfoldSD.Vmeasured()\n",
    "responseSD = unfoldSD.response()\n",
    "mresponseSD = responseSD.Mresponse()\n",
    "truthSDV = responseSD.Vtruth()\n",
    "truth_foldedSDV = ROOT.TVectorD(truthSDV)\n",
    "truth_foldedSDV *= mresponseSD\n",
    "errsSD = unfoldSD.Ereco()\n",
    "errsVSD = unfoldSD.ErecoV(2)"
   ]
  },
  {
   "cell_type": "markdown",
   "metadata": {},
   "source": [
    "## Compute $\\chi^2$ values for ungroomed case:"
   ]
  },
  {
   "cell_type": "code",
   "execution_count": 4,
   "metadata": {},
   "outputs": [
    {
     "name": "stdout",
     "output_type": "stream",
     "text": [
      " Unfolded chi2 :  6.72144967081\n",
      " Folded   chi2 :  9.73778052955\n"
     ]
    }
   ],
   "source": [
    "\n",
    "chi2_1 = 0.0\n",
    "\n",
    "\n",
    "\n",
    "for ibin in xrange( reco_unfolded.GetNrows() ):\n",
    "    #print reco_unfolded[ibin], ', ', truthV [ibin], ', ', errsV[ibin]\n",
    "    if errsV[ibin] > 0.0:\n",
    "        chi2_1 += pow( (reco_unfolded[ibin] - truthV[ibin]) / errsV[ibin], 2.0)\n",
    "    \n",
    "chi2_1 /= reco_unfolded.GetNrows()\n",
    "print ' Unfolded chi2 : ', chi2_1\n",
    "\n",
    "\n",
    "chi2_2 = 0.0\n",
    "cov = unfold.GetMeasuredCov()\n",
    "for ibin in xrange( reco_det.GetNrows() ):\n",
    "    #print reco_det[ibin], ', ', truth_foldedV [ibin], ', ', math.sqrt(cov[ibin][ibin])\n",
    "    if cov[ibin][ibin] > 0.0:\n",
    "        chi2_2 += pow( (reco_det[ibin] - truth_foldedV[ibin]) / math.sqrt(cov[ibin][ibin]), 2.0)\n",
    "    \n",
    "chi2_2 /= reco_det.GetNrows()\n",
    "print ' Folded   chi2 : ', chi2_2\n",
    "\n"
   ]
  },
  {
   "cell_type": "markdown",
   "metadata": {},
   "source": [
    "## Compute $\\chi^2$ values for groomed case:"
   ]
  },
  {
   "cell_type": "code",
   "execution_count": 5,
   "metadata": {},
   "outputs": [
    {
     "name": "stdout",
     "output_type": "stream",
     "text": [
      " Unfolded chi2 :  1.79628135232\n",
      " Folded   chi2 :  6.73571327896\n"
     ]
    }
   ],
   "source": [
    "\n",
    "chi2_1sd = 0.0\n",
    "\n",
    "\n",
    "\n",
    "for ibin in xrange( reco_unfoldedSD.GetNrows() ):\n",
    "    #print reco_unfolded[ibin], ', ', truthV [ibin], ', ', errsV[ibin]\n",
    "    if errsVSD[ibin] > 0.0:\n",
    "        chi2_1sd += pow( (reco_unfoldedSD[ibin] - truthSDV[ibin]) / errsVSD[ibin], 2.0)\n",
    "    \n",
    "chi2_1sd /= reco_unfoldedSD.GetNrows()\n",
    "print ' Unfolded chi2 : ', chi2_1sd\n",
    "\n",
    "\n",
    "chi2_2sd = 0.0\n",
    "covSD = unfoldSD.GetMeasuredCov()\n",
    "for ibin in xrange( reco_detSD.GetNrows() ):\n",
    "    #print reco_detSD[ibin], ', ', truth_foldedSDV [ibin], ', ', math.sqrt(covSD[ibin][ibin])\n",
    "    if covSD[ibin][ibin] > 0.0:\n",
    "        chi2_2sd += pow( (reco_detSD[ibin] - truth_foldedSDV[ibin]) / math.sqrt(covSD[ibin][ibin]), 2.0)\n",
    "    \n",
    "chi2_2sd /= reco_detSD.GetNrows()\n",
    "print ' Folded   chi2 : ', chi2_2sd\n",
    "\n",
    "\n"
   ]
  },
  {
   "cell_type": "code",
   "execution_count": null,
   "metadata": {},
   "outputs": [],
   "source": []
  },
  {
   "cell_type": "code",
   "execution_count": null,
   "metadata": {},
   "outputs": [],
   "source": []
  }
 ],
 "metadata": {
  "kernelspec": {
   "display_name": "Python 2",
   "language": "python",
   "name": "python2"
  },
  "language_info": {
   "codemirror_mode": {
    "name": "ipython",
    "version": 2
   },
   "file_extension": ".py",
   "mimetype": "text/x-python",
   "name": "python",
   "nbconvert_exporter": "python",
   "pygments_lexer": "ipython2",
   "version": "2.7.14"
  }
 },
 "nbformat": 4,
 "nbformat_minor": 2
}
