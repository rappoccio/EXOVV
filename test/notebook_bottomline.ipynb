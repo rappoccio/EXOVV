{
 "cells": [
  {
   "cell_type": "markdown",
   "metadata": {},
   "source": [
    "# Perform bottom line test for SMP-16-010\n",
    "\n",
    "We will follow stat comm recommendations here: \n",
    "\n",
    "https://twiki.cern.ch/twiki/bin/viewauth/CMS/ScrecUnfolding\n",
    "\n",
    "If we define $r$ to be the reconstructed MC, $R$ to be the response matrix, $g$ to be the generator-level truth, $u$ to be the unfolded reconstructed MC, and $\\sigma$ to be the uncertainties, we compute:\n",
    "\n",
    "\n",
    "- $\\chi^2_{smeared} = |(r - Rg)/\\sigma|^2$\n",
    "- $\\chi^2_{unfolded} = |(u - g)|^2$"
   ]
  },
  {
   "cell_type": "markdown",
   "metadata": {},
   "source": [
    "## Set up the response matrices and vectors"
   ]
  },
  {
   "cell_type": "code",
   "execution_count": 1,
   "metadata": {},
   "outputs": [
    {
     "name": "stdout",
     "output_type": "stream",
     "text": [
      "Welcome to JupyROOT 6.12/04\n"
     ]
    }
   ],
   "source": [
    "import ROOT\n",
    "ROOT.gSystem.Load(\"RooUnfold/libRooUnfold\")\n",
    "ROOT.gROOT.SetBatch()\n",
    "import math\n",
    "\n",
    "from ROOT import gRandom, TH1, cout, TH2, TLegend, TFile\n",
    "from ROOT import RooUnfoldResponse\n",
    "from ROOT import RooUnfold\n",
    "from ROOT import RooUnfoldBayes\n",
    "from ROOT import TCanvas\n",
    "from ROOT import RooUnfoldSvd\n",
    "\n",
    "extension = ''\n",
    "\n",
    "mcfile = TFile('responses_rejec_tightgen_otherway_qcdmc_2dplots.root')\n",
    "datafile = TFile('jetht_weighted_dataplots_otherway_rejec.root')\n",
    "\n",
    "response = mcfile.Get('2d_response'+ extension)\n",
    "responseSD = mcfile.Get('2d_response_softdrop' + extension)\n",
    "\n",
    "truth = mcfile.Get('PFJet_pt_m_AK8Gen')\n",
    "truthSD = mcfile.Get('PFJet_pt_m_AK8SDgen')\n",
    "\n",
    "\n",
    "reco = mcfile.Get('PFJet_pt_m_AK8')\n",
    "recoSD = mcfile.Get('PFJet_pt_m_AK8SD')\n",
    "\n",
    "unfold = RooUnfoldBayes(response, reco, 4)    \n",
    "unfoldSD = RooUnfoldBayes(responseSD, recoSD, 4)    \n",
    "\n",
    "reco_unfolded = unfold.Vreco()\n",
    "reco_det = unfold.Vmeasured()\n",
    "response = unfold.response()\n",
    "mresponse = response.Mresponse()\n",
    "truth = response.Vtruth()\n",
    "truth_folded = ROOT.TVectorD(truth)\n",
    "truth_folded *= mresponse\n",
    "errs = unfold.ErecoV(2)\n",
    "\n",
    "\n",
    "\n",
    "\n",
    "reco_unfoldedSD = unfoldSD.Vreco()\n",
    "reco_detSD = unfoldSD.Vmeasured()\n",
    "responseSD = unfoldSD.response()\n",
    "mresponseSD = responseSD.Mresponse()\n",
    "truthSD = responseSD.Vtruth()\n",
    "truth_foldedSD = ROOT.TVectorD(truthSD)\n",
    "truth_foldedSD *= mresponseSD\n",
    "errsSD = unfoldSD.ErecoV(2)\n",
    "\n",
    "\n"
   ]
  },
  {
   "cell_type": "markdown",
   "metadata": {},
   "source": [
    "## Compute $\\chi^2$ values for ungroomed case:"
   ]
  },
  {
   "cell_type": "code",
   "execution_count": 2,
   "metadata": {},
   "outputs": [
    {
     "name": "stdout",
     "output_type": "stream",
     "text": [
      "-----------------\n",
      "Ungroomed:\n",
      "Chi2_folded   =  1170.85229835\n",
      "Chi2_unfolded =  374.010680338\n",
      "-----------------\n"
     ]
    }
   ],
   "source": [
    "\n",
    "for ival in xrange( reco_det.GetNrows() ):\n",
    "    reco_det[ival] -= truth_folded[ival]\n",
    "\n",
    "for ival in xrange( reco_unfolded.GetNrows() ):\n",
    "    reco_unfolded[ival] -= truth[ival]\n",
    "    if errs[ival] > 0.0 : \n",
    "        reco_unfolded[ival] /= errs[ival]\n",
    "        \n",
    "        \n",
    "print '-----------------'\n",
    "print 'Ungroomed:'\n",
    "print 'Chi2_folded   = ',  reco_det.Norm1() \n",
    "print 'Chi2_unfolded = ', reco_unfolded.Norm1() \n",
    "print '-----------------'\n",
    "\n"
   ]
  },
  {
   "cell_type": "markdown",
   "metadata": {},
   "source": [
    "## Compute $\\chi^2$ values for groomed case:"
   ]
  },
  {
   "cell_type": "code",
   "execution_count": 3,
   "metadata": {},
   "outputs": [
    {
     "name": "stdout",
     "output_type": "stream",
     "text": [
      "Groomed:\n",
      "Chi2_folded   =  710.666554867\n",
      "Chi2_unfolded =  207.491901169\n"
     ]
    }
   ],
   "source": [
    "\n",
    "\n",
    "\n",
    "for ival in xrange( reco_detSD.GetNrows() ):\n",
    "    reco_detSD[ival] -= truth_foldedSD[ival]\n",
    "\n",
    "for ival in xrange( reco_unfoldedSD.GetNrows() ):\n",
    "    reco_unfoldedSD[ival] -= truthSD[ival]\n",
    "    if errsSD[ival] > 0.0:\n",
    "        reco_unfoldedSD[ival] /= errsSD[ival]\n",
    "print 'Groomed:'\n",
    "print 'Chi2_folded   = ',  reco_detSD.Norm1()\n",
    "print 'Chi2_unfolded = ', reco_unfoldedSD.Norm1()\n",
    "\n",
    "\n"
   ]
  }
 ],
 "metadata": {
  "kernelspec": {
   "display_name": "Python 2",
   "language": "python",
   "name": "python2"
  },
  "language_info": {
   "codemirror_mode": {
    "name": "ipython",
    "version": 2
   },
   "file_extension": ".py",
   "mimetype": "text/x-python",
   "name": "python",
   "nbconvert_exporter": "python",
   "pygments_lexer": "ipython2",
   "version": "2.7.14"
  }
 },
 "nbformat": 4,
 "nbformat_minor": 2
}
