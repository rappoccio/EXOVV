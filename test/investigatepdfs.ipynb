{
 "cells": [
  {
   "cell_type": "code",
   "execution_count": 1,
   "metadata": {},
   "outputs": [
    {
     "name": "stdout",
     "output_type": "stream",
     "text": [
      "Welcome to JupyROOT 6.10/08\n"
     ]
    }
   ],
   "source": [
    "import ROOT"
   ]
  },
  {
   "cell_type": "code",
   "execution_count": 2,
   "metadata": {
    "collapsed": true
   },
   "outputs": [],
   "source": [
    "f = ROOT.TFile(\"qcdpy8_flat_pdf4lhc15.root\")"
   ]
  },
  {
   "cell_type": "code",
   "execution_count": 3,
   "metadata": {},
   "outputs": [
    {
     "name": "stdout",
     "output_type": "stream",
     "text": [
      "TFile**\t\tqcdpy8_flat_pdf4lhc15.root\t\n",
      " TFile*\t\tqcdpy8_flat_pdf4lhc15.root\t\n",
      "  KEY: TTree\tTreeEXOVV;1\tTreeEXOVV\n"
     ]
    }
   ],
   "source": [
    "f.ls()"
   ]
  },
  {
   "cell_type": "code",
   "execution_count": 4,
   "metadata": {
    "collapsed": true
   },
   "outputs": [],
   "source": [
    "t = f.Get(\"TreeEXOVV\")"
   ]
  },
  {
   "cell_type": "code",
   "execution_count": 5,
   "metadata": {},
   "outputs": [
    {
     "data": {
      "text/plain": [
       "660953L"
      ]
     },
     "execution_count": 5,
     "metadata": {},
     "output_type": "execute_result"
    },
    {
     "name": "stderr",
     "output_type": "stream",
     "text": [
      "Info in <TCanvas::MakeDefCanvas>:  created default TCanvas with name c1\n"
     ]
    }
   ],
   "source": [
    "\n",
    "t.Draw(\"GenJetMassSoftDrop >> pdf4lhc(20,0,400)\", \"(GenJetPt > 550 && GenJetPt < 650) * PDF4LHC15weight_Central\")\n",
    "t.Draw(\"GenJetMassSoftDrop >> pdf4lhc_up(20,0,400)\", \"(GenJetPt > 550 && GenJetPt < 650) * PDF4LHC15weight_CorrUp\")\n",
    "t.Draw(\"GenJetMassSoftDrop >> cteq(20,0,400)\", \"(GenJetPt > 550 && GenJetPt < 650) * CTEQweight_Central\")\n",
    "t.Draw(\"GenJetMassSoftDrop >> mstw(20,0,400)\", \"(GenJetPt > 550 && GenJetPt < 650) * MSTWweight_Central\")\n",
    "t.Draw(\"GenJetMassSoftDrop >> nnpdf(20,0,400)\", \"(GenJetPt > 550 && GenJetPt < 650) * NNPDF3weight_Central\")\n",
    "t.Draw(\"GenJetMassSoftDrop >> nnpdf_up(20,0,400)\", \"(GenJetPt > 550 && GenJetPt < 650) * NNPDF3weight_CorrUp\")\n"
   ]
  },
  {
   "cell_type": "code",
   "execution_count": 6,
   "metadata": {},
   "outputs": [
    {
     "name": "stderr",
     "output_type": "stream",
     "text": [
      "Warning in <TCanvas::Constructor>: Deleting canvas with same name: c1\n"
     ]
    }
   ],
   "source": [
    "\n",
    "c1 = ROOT.TCanvas(\"c1\", \"c1\")\n",
    "\n",
    "pdf4lhc = ROOT.gDirectory.Get(\"pdf4lhc\").Clone(\"pdf4lhc_working\")\n",
    "pdf4lhc_up = ROOT.gDirectory.Get(\"pdf4lhc_up\").Clone(\"pdf4lhc_up_working\")\n",
    "cteq = ROOT.gDirectory.Get(\"cteq\").Clone(\"cteq_working\")\n",
    "mstw = ROOT.gDirectory.Get(\"mstw\").Clone(\"mstw_working\")\n",
    "nnpdf = ROOT.gDirectory.Get(\"nnpdf\").Clone(\"nnpdf_working\")\n",
    "nnpdf_up = ROOT.gDirectory.Get(\"nnpdf_up\").Clone(\"nnpdf_up_working\")\n",
    "\n",
    "\n",
    "\n",
    "for ibin in xrange( 1, pdf4lhc.GetNbinsX()) :\n",
    "    xval = pdf4lhc.GetXaxis().GetBinLowEdge(ibin)\n",
    "    nnpdf_val = nnpdf.GetBinContent(ibin)\n",
    "    nnpdf_valup = nnpdf_up.GetBinContent(ibin)\n",
    "    pdf4lhc_val = pdf4lhc.GetBinContent(ibin)\n",
    "    pdf4lhc_valup = pdf4lhc_up.GetBinContent(ibin)\n",
    "    cteq_val = cteq.GetBinContent(ibin)\n",
    "    mstw_val = mstw.GetBinContent(ibin)\n",
    "    \n",
    "    nnpdf_err = abs(nnpdf_val - nnpdf_valup)\n",
    "    pdf4lhc_err = abs(pdf4lhc_val - pdf4lhc_valup)\n",
    "    \n",
    "    if abs(nnpdf_val) > 0.0:\n",
    "        v0 = 1.0\n",
    "        v1 = nnpdf_err / nnpdf_val\n",
    "        v2 = pdf4lhc_val / nnpdf_val\n",
    "        v3 = pdf4lhc_err / pdf4lhc_val * v2\n",
    "        v4 = cteq_val / nnpdf_val\n",
    "        v5 = mstw_val / nnpdf_val\n",
    "        \n",
    "        nnpdf.SetBinContent(ibin, v0)\n",
    "        nnpdf.SetBinError(ibin, v1)\n",
    "\n",
    "        pdf4lhc.SetBinContent(ibin, v2)\n",
    "        pdf4lhc.SetBinError(ibin, v3)        \n",
    "        \n",
    "        cteq.SetBinContent(ibin, v4)\n",
    "        mstw.SetBinContent(ibin, v5)\n",
    "\n",
    "\n",
    "\n",
    "        \n",
    "\n",
    "        \n",
    "        \n"
   ]
  },
  {
   "cell_type": "code",
   "execution_count": 7,
   "metadata": {},
   "outputs": [
    {
     "name": "stderr",
     "output_type": "stream",
     "text": [
      "Info in <TCanvas::Print>: pdf file pdf_uncertainties_investigation.pdf has been created\n",
      "Info in <TCanvas::Print>: png file pdf_uncertainties_investigation.png has been created\n"
     ]
    },
    {
     "data": {
      "image/png": "[encoded data removed]",
      "text/plain": [
       "<IPython.core.display.Image object>"
      ]
     },
     "metadata": {},
     "output_type": "display_data"
    }
   ],
   "source": [
    "c2 = ROOT.TCanvas(\"c2\", \"c2\")\n",
    "nnpdf.SetFillColor(1)\n",
    "pdf4lhc.SetFillColor(2)\n",
    "nnpdf.SetFillStyle(3004)\n",
    "pdf4lhc.SetFillStyle(3005)\n",
    "\n",
    "cteq.SetLineColor(4)\n",
    "mstw.SetLineColor(6)\n",
    "\n",
    "s = ROOT.THStack(\"s\",\";Groomed mass (GeV);Ratio to NNPDF\")\n",
    "s.Add(nnpdf, 'e6')\n",
    "s.Add(pdf4lhc, 'e6')\n",
    "s.Add(cteq, 'hist')\n",
    "s.Add(mstw, 'hist')\n",
    "\n",
    "s.Draw('nostack')\n",
    "\n",
    "leg = ROOT.TLegend(0.5, 0.3, 0.8, 0.5)\n",
    "leg.SetBorderSize(0)\n",
    "leg.SetFillColor(0)\n",
    "leg.AddEntry(nnpdf, 'NNPDF', 'f')\n",
    "leg.AddEntry(cteq, 'CTEQ', 'l')\n",
    "leg.AddEntry(mstw, 'MMHT', 'l')\n",
    "leg.AddEntry(pdf4lhc, 'PDF4LHC', 'f')\n",
    "leg.Draw()\n",
    "c2.Draw()\n",
    "c2.Print('pdf_uncertainties_investigation.pdf', 'pdf')\n",
    "c2.Print('pdf_uncertainties_investigation.png', 'png')"
   ]
  },
  {
   "cell_type": "code",
   "execution_count": null,
   "metadata": {
    "collapsed": true
   },
   "outputs": [],
   "source": []
  }
 ],
 "metadata": {
  "kernelspec": {
   "display_name": "Python 2",
   "language": "python",
   "name": "python2"
  },
  "language_info": {
   "codemirror_mode": {
    "name": "ipython",
    "version": 2
   },
   "file_extension": ".py",
   "mimetype": "text/x-python",
   "name": "python",
   "nbconvert_exporter": "python",
   "pygments_lexer": "ipython2",
   "version": "2.7.10"
  }
 },
 "nbformat": 4,
 "nbformat_minor": 2
}
