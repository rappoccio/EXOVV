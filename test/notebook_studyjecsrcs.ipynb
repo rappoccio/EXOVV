{
 "cells": [
  {
   "cell_type": "code",
   "execution_count": 1,
   "metadata": {},
   "outputs": [
    {
     "name": "stdout",
     "output_type": "stream",
     "text": [
      "Welcome to JupyROOT 6.10/04\n"
     ]
    },
    {
     "data": {
      "text/plain": [
       "0L"
      ]
     },
     "execution_count": 1,
     "metadata": {},
     "output_type": "execute_result"
    }
   ],
   "source": [
    "import ROOT\n",
    "ROOT.gROOT.Macro(\"rootlogon.C\")"
   ]
  },
  {
   "cell_type": "code",
   "execution_count": null,
   "metadata": {
    "collapsed": true
   },
   "outputs": [],
   "source": []
  },
  {
   "cell_type": "code",
   "execution_count": 1,
   "metadata": {},
   "outputs": [
    {
     "name": "stdout",
     "output_type": "stream",
     "text": [
      "Welcome to JupyROOT 6.10/04\n"
     ]
    }
   ],
   "source": [
    "\n",
    "\n",
    "from Unfolder import *\n",
    "\n",
    "\n",
    "\n",
    "\n",
    "ROOT.gStyle.SetOptStat(000000)\n",
    "ROOT.gStyle.SetTitleOffset(1.0, \"Y\");\n",
    "ROOT.gStyle.SetPadRightMargin(0.15)\n",
    "ROOT.gStyle.SetTitleFont(43,\"XYZ\")\n",
    "ROOT.gStyle.SetTitleSize(30,\"XYZ\")\n",
    "ROOT.gStyle.SetTitleOffset(1.0, \"X\")\n",
    "ROOT.gStyle.SetTitleOffset(0.8, \"Y\")\n",
    "ROOT.gStyle.SetLabelFont(43,\"XYZ\")\n",
    "ROOT.gStyle.SetLabelSize(22,\"XYZ\")\n",
    "\n",
    "ROOT.gSystem.Load(\"RooUnfold/libRooUnfold\")\n",
    "\n",
    "lumi = 2.3e3\n",
    "\n",
    "infile = \"2DData_expunc.root\"\n",
    "\n"
   ]
  },
  {
   "cell_type": "code",
   "execution_count": 2,
   "metadata": {
    "collapsed": true
   },
   "outputs": [],
   "source": [
    "pythia = ROOT.TFile(infile)"
   ]
  },
  {
   "cell_type": "code",
   "execution_count": 3,
   "metadata": {
    "collapsed": true
   },
   "outputs": [],
   "source": [
    "#softdropstr = \"_softdrop\"\n",
    "softdropstr = \"\""
   ]
  },
  {
   "cell_type": "code",
   "execution_count": 4,
   "metadata": {
    "collapsed": true
   },
   "outputs": [],
   "source": [
    "nom = pythia.Get(\"2d_response\" + softdropstr).Hreco()\n",
    "nom.Scale(1.0 / nom.Integral())\n",
    "jecsrcs = []\n",
    "\n",
    "for i in xrange(53): \n",
    "    jecsrcs.append( [pythia.Get('2d_response' + softdropstr + '_jecsrc'+str(i)+'up').Hreco(), \n",
    "                     pythia.Get('2d_response' + softdropstr + '_jecsrc'+str(i)+'dn').Hreco()] )\n",
    "    jecsrcs[i][0].Scale(1.0 /jecsrcs[i][0].Integral() )\n",
    "    jecsrcs[i][1].Scale(1.0 /jecsrcs[i][1].Integral() )\n",
    "    jecsrcs[i][0].Add( nom, -1.0 )\n",
    "    jecsrcs[i][1].Add( nom, -1.0 )\n",
    "    jecsrcs[i][0].Divide( nom )\n",
    "    jecsrcs[i][1].Divide( nom )"
   ]
  },
  {
   "cell_type": "code",
   "execution_count": 5,
   "metadata": {
    "collapsed": true,
    "scrolled": true
   },
   "outputs": [],
   "source": [
    "projsup = []\n",
    "projsdn = []\n",
    "\n",
    "for i in xrange(53): \n",
    "    ptproj = jecsrcs[i][0].ProjectionX(\"projyup\"+str(i), 3,3)\n",
    "    ptproj.SetMarkerStyle( 20 + i % 20)\n",
    "    projsup.append( ptproj )\n",
    "\n",
    "for i in xrange(53): \n",
    "    ptproj = jecsrcs[i][1].ProjectionX(\"projydn\"+str(i), 3,3)\n",
    "    ptproj.SetMarkerStyle( 20 + i % 20)\n",
    "    projsdn.append( ptproj )\n",
    "    \n",
    "    \n",
    "    "
   ]
  },
  {
   "cell_type": "code",
   "execution_count": 6,
   "metadata": {
    "collapsed": true
   },
   "outputs": [],
   "source": [
    "hup = ROOT.THStack(\"hup\", \";Jet mass (GeV);JEC + Uncertainty\")\n",
    "hdn = ROOT.THStack(\"hdn\", \";Jet mass (GeV);JEC - Uncertainty\")"
   ]
  },
  {
   "cell_type": "code",
   "execution_count": 7,
   "metadata": {
    "collapsed": true
   },
   "outputs": [],
   "source": [
    "for i in xrange(53):\n",
    "    hup.Add(projsup[i])\n",
    "    hdn.Add(projsdn[i])"
   ]
  },
  {
   "cell_type": "code",
   "execution_count": 10,
   "metadata": {},
   "outputs": [
    {
     "name": "stderr",
     "output_type": "stream",
     "text": [
      "Warning in <TCanvas::Constructor>: Deleting canvas with same name: cup\n"
     ]
    },
    {
     "data": {
      "image/png": "[encoded data removed]",
      "text/plain": [
       "<IPython.core.display.Image object>"
      ]
     },
     "metadata": {},
     "output_type": "display_data"
    }
   ],
   "source": [
    "cup = ROOT.TCanvas(\"cup\", \"cup\", 600,600)\n",
    "\n",
    "hup.Draw(\"nostack\")\n",
    "\n",
    "#hup.SetMinimum(-3.0e-2)\n",
    "#hup.SetMaximum(3.0e-2)\n",
    "hup.GetXaxis().SetRangeUser(0,300)\n",
    "\n",
    "cup.Draw()"
   ]
  },
  {
   "cell_type": "code",
   "execution_count": 11,
   "metadata": {},
   "outputs": [
    {
     "name": "stderr",
     "output_type": "stream",
     "text": [
      "Warning in <TCanvas::Constructor>: Deleting canvas with same name: cdn\n"
     ]
    },
    {
     "data": {
      "image/png": "[encoded data removed]",
      "text/plain": [
       "<IPython.core.display.Image object>"
      ]
     },
     "metadata": {},
     "output_type": "display_data"
    }
   ],
   "source": [
    "cdn = ROOT.TCanvas(\"cdn\", \"cdn\", 600,600)\n",
    "\n",
    "hdn.Draw(\"nostack\")\n",
    "#hdn.SetMinimum(-3.0e-2)\n",
    "#hdn.SetMaximum(3.0e-2)\n",
    "hdn.GetXaxis().SetRangeUser(0,300)\n",
    "\n",
    "cdn.Draw()"
   ]
  },
  {
   "cell_type": "code",
   "execution_count": null,
   "metadata": {
    "collapsed": true
   },
   "outputs": [],
   "source": []
  }
 ],
 "metadata": {
  "kernelspec": {
   "display_name": "Python 2",
   "language": "python",
   "name": "python2"
  },
  "language_info": {
   "codemirror_mode": {
    "name": "ipython",
    "version": 2
   },
   "file_extension": ".py",
   "mimetype": "text/x-python",
   "name": "python",
   "nbconvert_exporter": "python",
   "pygments_lexer": "ipython2",
   "version": "2.7.10"
  }
 },
 "nbformat": 4,
 "nbformat_minor": 2
}
