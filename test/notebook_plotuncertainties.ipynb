{
 "cells": [
  {
   "cell_type": "markdown",
   "metadata": {},
   "source": [
    "# Combine unfolded results and plot final uncertainties for normalized XS\n",
    "\n",
    "Here is the script to assemble the unfolded results from `2DData_expunc.root` and `2DClosure_expunc.root` and make the final plots of the analysis. \n",
    "\n",
    "Note: You have to access the files through cernbox as they are too large for github. \n",
    "\n",
    "https://cernbox.cern.ch/cernbox/desktop/index.php/s/rsYvLcidoUFEKV0\n",
    "\n",
    "https://cernbox.cern.ch/cernbox/desktop/index.php/s/DsRRXR9bEKOGzoU\n",
    "\n"
   ]
  },
  {
   "cell_type": "code",
   "execution_count": null,
   "metadata": {},
   "outputs": [],
   "source": [
    "import ROOT\n",
    "from Unfolder import *\n",
    "\n",
    "ROOT.gROOT.Macro(\"rootlogon.C\")\n",
    "\n"
   ]
  },
  {
   "cell_type": "code",
   "execution_count": null,
   "metadata": {
    "collapsed": true
   },
   "outputs": [],
   "source": [
    "ROOT.gStyle.SetOptStat(000000)\n",
    "ROOT.gStyle.SetTitleOffset(1.0, \"Y\");\n",
    "ROOT.gStyle.SetPadRightMargin(0.15)\n",
    "ROOT.gStyle.SetTitleFont(43,\"XYZ\")\n",
    "ROOT.gStyle.SetTitleSize(30,\"XYZ\")\n",
    "ROOT.gStyle.SetTitleOffset(1.0, \"X\")\n",
    "ROOT.gStyle.SetTitleOffset(0.8, \"Y\")\n",
    "ROOT.gStyle.SetLabelFont(43,\"XYZ\")\n",
    "ROOT.gStyle.SetLabelSize(22,\"XYZ\")\n",
    "\n",
    "lumi = 2.3e3\n",
    "\n",
    "pythiafile = \"responses_jecsrcs_otherway_qcdmc_2dplots.root\"\n",
    "herwigfile = \"qcdmc_herwig_otherway_jecsrcs_2dplots.root\"\n"
   ]
  },
  {
   "cell_type": "markdown",
   "metadata": {},
   "source": [
    "#### Ungroomed uncertainties, normalized"
   ]
  },
  {
   "cell_type": "code",
   "execution_count": null,
   "metadata": {},
   "outputs": [],
   "source": [
    "\n",
    "\n",
    "uumc_norm = RooUnfoldUnfolder(useSoftDrop=False, inputs=\"2DClosure\",\n",
    "                       pythiaInputs=pythiafile,\n",
    "                       herwigInputs=herwigfile,\n",
    "                       powhegInputs=\"CMS_SMP_16_010.root\",\n",
    "                       normalizeUnity=True, scalePtBins=True, lumi=lumi, postfix=\"ungroomed\")\n",
    "\n",
    "\n",
    "uumc_norm.plotFullUncs( hists=uumc_norm.uncertainties)\n",
    "\n"
   ]
  },
  {
   "cell_type": "markdown",
   "metadata": {},
   "source": [
    "#### Groomed uncertainties, normalized"
   ]
  },
  {
   "cell_type": "code",
   "execution_count": null,
   "metadata": {},
   "outputs": [],
   "source": [
    "\n",
    "ugmc_norm = RooUnfoldUnfolder(useSoftDrop=True, inputs=\"2DClosure\",\n",
    "                       pythiaInputs=pythiafile,\n",
    "                       herwigInputs=herwigfile,\n",
    "                       powhegInputs=\"CMS_SMP_16_010.root\",\n",
    "                       normalizeUnity=True, scalePtBins=True, lumi=lumi,  postfix=\"softdrop\")\n",
    "\n",
    "ugmc_norm.plotFullUncs(hists=ugmc_norm.uncertainties)\n",
    "\n"
   ]
  },
  {
   "cell_type": "code",
   "execution_count": null,
   "metadata": {
    "collapsed": true
   },
   "outputs": [],
   "source": []
  }
 ],
 "metadata": {
  "kernelspec": {
   "display_name": "Python 2",
   "language": "python",
   "name": "python2"
  },
  "language_info": {
   "codemirror_mode": {
    "name": "ipython",
    "version": 2
   },
   "file_extension": ".py",
   "mimetype": "text/x-python",
   "name": "python",
   "nbconvert_exporter": "python",
   "pygments_lexer": "ipython2",
   "version": "2.7.10"
  }
 },
 "nbformat": 4,
 "nbformat_minor": 2
}
