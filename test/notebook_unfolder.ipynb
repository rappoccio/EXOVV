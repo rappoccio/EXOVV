{
 "cells": [
  {
   "cell_type": "code",
   "execution_count": 1,
   "metadata": {},
   "outputs": [
    {
     "name": "stdout",
     "output_type": "stream",
     "text": [
      "Welcome to JupyROOT 6.10/04\n"
     ]
    },
    {
     "data": {
      "text/plain": [
       "0L"
      ]
     },
     "execution_count": 1,
     "metadata": {},
     "output_type": "execute_result"
    }
   ],
   "source": [
    "import ROOT\n",
    "from Unfolder import *\n",
    "\n",
    "ROOT.gROOT.Macro(\"rootlogon.C\")\n",
    "\n"
   ]
  },
  {
   "cell_type": "code",
   "execution_count": 2,
   "metadata": {
    "collapsed": true
   },
   "outputs": [],
   "source": [
    "ROOT.gStyle.SetOptStat(000000)\n",
    "ROOT.gStyle.SetTitleOffset(1.0, \"Y\");\n",
    "ROOT.gStyle.SetPadRightMargin(0.15)\n",
    "ROOT.gStyle.SetTitleFont(43,\"XYZ\")\n",
    "ROOT.gStyle.SetTitleSize(30,\"XYZ\")\n",
    "ROOT.gStyle.SetTitleOffset(1.0, \"X\")\n",
    "ROOT.gStyle.SetTitleOffset(0.8, \"Y\")\n",
    "ROOT.gStyle.SetLabelFont(43,\"XYZ\")\n",
    "ROOT.gStyle.SetLabelSize(22,\"XYZ\")\n",
    "\n",
    "lumi = 2.3e3\n",
    "\n",
    "pythiafile = \"responses_jecsrcs_otherway_qcdmc_2dplots.root\"\n",
    "herwigfile = \"qcdmc_herwig_otherway_jecsrcs_2dplots.root\"\n"
   ]
  },
  {
   "cell_type": "markdown",
   "metadata": {},
   "source": [
    "#### Absolute cross section for ungroomed jets"
   ]
  },
  {
   "cell_type": "code",
   "execution_count": 3,
   "metadata": {},
   "outputs": [
    {
     "name": "stdout",
     "output_type": "stream",
     "text": [
      "254535951.654\n",
      "data integral: 81.9570817813\n",
      "pythia integral: 80.6442854191\n",
      "herwig integral: 84.1881193246\n"
     ]
    },
    {
     "name": "stderr",
     "output_type": "stream",
     "text": [
      "Info in <TCanvas::Print>: png file fullxs_absolute1.png has been created\n",
      "Info in <TCanvas::Print>: pdf file fullxs_absolute1.pdf has been created\n",
      "Info in <TCanvas::Print>: png file fullxs_absolute2.png has been created\n",
      "Info in <TCanvas::Print>: pdf file fullxs_absolute2.pdf has been created\n",
      "Info in <TCanvas::Print>: png file fullxs_absolute3.png has been created\n",
      "Info in <TCanvas::Print>: pdf file fullxs_absolute3.pdf has been created\n",
      "Info in <TCanvas::Print>: png file fullxs_absolute4.png has been created\n",
      "Info in <TCanvas::Print>: pdf file fullxs_absolute4.pdf has been created\n",
      "Info in <TCanvas::Print>: png file fullxs_absolute5.png has been created\n",
      "Info in <TCanvas::Print>: pdf file fullxs_absolute5.pdf has been created\n",
      "Info in <TCanvas::Print>: png file fullxs_absolute6.png has been created\n",
      "Info in <TCanvas::Print>: pdf file fullxs_absolute6.pdf has been created\n",
      "Info in <TCanvas::Print>: png file fullxs_absolute7.png has been created\n",
      "Info in <TCanvas::Print>: pdf file fullxs_absolute7.pdf has been created\n",
      "Info in <TCanvas::Print>: png file fullxs_absolute8.png has been created\n",
      "Info in <TCanvas::Print>: pdf file fullxs_absolute8.pdf has been created\n",
      "Info in <TCanvas::Print>: png file fullxs_absolute9.png has been created\n",
      "Info in <TCanvas::Print>: pdf file fullxs_absolute9.pdf has been created\n",
      "Info in <TCanvas::Print>: png file fullxs_absolute10.png has been created\n",
      "Info in <TCanvas::Print>: pdf file fullxs_absolute10.pdf has been created\n",
      "Info in <TCanvas::Print>: png file fullxs_absolute11.png has been created\n",
      "Info in <TCanvas::Print>: pdf file fullxs_absolute11.pdf has been created\n",
      "Info in <TCanvas::Print>: png file fullxs_absolute12.png has been created\n",
      "Info in <TCanvas::Print>: pdf file fullxs_absolute12.pdf has been created\n"
     ]
    }
   ],
   "source": [
    "uu = RooUnfoldUnfolder(useSoftDrop=False,\n",
    "                       pythiaInputs=pythiafile,\n",
    "                       herwigInputs=herwigfile,\n",
    "                       powhegInputs=\"CMS_SMP_16_010.root\",\n",
    "                       normalizeUnity=False, scalePtBins=False, lumi=lumi,\n",
    "                       postfix=\"absolute\") \n",
    "\n",
    "print 'data integral:' , uu.nom.Integral() \n",
    "print 'pythia integral:' , uu.pythiaHist.Integral()\n",
    "print 'herwig integral:' , uu.herwigHist.Integral() \n",
    "\n",
    "uu.plotFullXSProjections( hists=[uu.nom, uu.nomStat,uu.pythiaHist,uu.herwigHist],\n",
    "                              styleNames=['nom','nomStat','pythia','herwig'] )\n",
    "\n",
    "\n"
   ]
  },
  {
   "cell_type": "markdown",
   "metadata": {},
   "source": [
    "#### Absolute cross section for groomed jets. "
   ]
  },
  {
   "cell_type": "code",
   "execution_count": 4,
   "metadata": {},
   "outputs": [
    {
     "name": "stdout",
     "output_type": "stream",
     "text": [
      "250943650.465\n"
     ]
    },
    {
     "name": "stderr",
     "output_type": "stream",
     "text": [
      "Info in <TCanvas::Print>: png file fullxs_absolute_softdrop1.png has been created\n",
      "Info in <TCanvas::Print>: pdf file fullxs_absolute_softdrop1.pdf has been created\n",
      "Info in <TCanvas::Print>: png file fullxs_absolute_softdrop2.png has been created\n",
      "Info in <TCanvas::Print>: pdf file fullxs_absolute_softdrop2.pdf has been created\n",
      "Info in <TCanvas::Print>: png file fullxs_absolute_softdrop3.png has been created\n",
      "Info in <TCanvas::Print>: pdf file fullxs_absolute_softdrop3.pdf has been created\n",
      "Info in <TCanvas::Print>: png file fullxs_absolute_softdrop4.png has been created\n",
      "Info in <TCanvas::Print>: pdf file fullxs_absolute_softdrop4.pdf has been created\n",
      "Info in <TCanvas::Print>: png file fullxs_absolute_softdrop5.png has been created\n",
      "Info in <TCanvas::Print>: pdf file fullxs_absolute_softdrop5.pdf has been created\n",
      "Info in <TCanvas::Print>: png file fullxs_absolute_softdrop6.png has been created\n",
      "Info in <TCanvas::Print>: pdf file fullxs_absolute_softdrop6.pdf has been created\n",
      "Info in <TCanvas::Print>: png file fullxs_absolute_softdrop7.png has been created\n",
      "Info in <TCanvas::Print>: pdf file fullxs_absolute_softdrop7.pdf has been created\n",
      "Info in <TCanvas::Print>: png file fullxs_absolute_softdrop8.png has been created\n",
      "Info in <TCanvas::Print>: pdf file fullxs_absolute_softdrop8.pdf has been created\n",
      "Info in <TCanvas::Print>: png file fullxs_absolute_softdrop9.png has been created\n",
      "Info in <TCanvas::Print>: pdf file fullxs_absolute_softdrop9.pdf has been created\n",
      "Info in <TCanvas::Print>: png file fullxs_absolute_softdrop10.png has been created\n",
      "Info in <TCanvas::Print>: pdf file fullxs_absolute_softdrop10.pdf has been created\n",
      "Info in <TCanvas::Print>: png file fullxs_absolute_softdrop11.png has been created\n",
      "Info in <TCanvas::Print>: pdf file fullxs_absolute_softdrop11.pdf has been created\n",
      "Info in <TCanvas::Print>: png file fullxs_absolute_softdrop12.png has been created\n",
      "Info in <TCanvas::Print>: pdf file fullxs_absolute_softdrop12.pdf has been created\n"
     ]
    }
   ],
   "source": [
    "\n",
    "ug = RooUnfoldUnfolder(useSoftDrop=True,\n",
    "                       pythiaInputs=pythiafile,\n",
    "                       herwigInputs=herwigfile,\n",
    "                       powhegInputs=\"CMS_SMP_16_010.root\",\n",
    "                       normalizeUnity=False, scalePtBins=False, lumi=lumi,\n",
    "                       postfix=\"absolute_softdrop\") \n",
    "\n",
    "ug.plotFullXSProjections( hists=[ug.nom, ug.nomStat,ug.pythiaHist,ug.herwigHist],\n",
    "                              styleNames=['nom','nomStat','pythia','herwig'] )\n"
   ]
  },
  {
   "cell_type": "markdown",
   "metadata": {
    "collapsed": true
   },
   "source": [
    "#### Absolute cross section wrt pt"
   ]
  },
  {
   "cell_type": "code",
   "execution_count": 5,
   "metadata": {},
   "outputs": [
    {
     "name": "stderr",
     "output_type": "stream",
     "text": [
      "Info in <TCanvas::Print>: png file pt_xs.png has been created\n",
      "Info in <TCanvas::Print>: pdf file pt_xs.pdf has been created\n"
     ]
    }
   ],
   "source": [
    "uu.plotPtDist( hists=[uu.nom, uu.nomStat, uu.pythiaHist, uu.herwigHist],\n",
    "                   styleNames=['nom','nomStat','pythia','herwig'],\n",
    "                   filename = \"pt_xs\", title=\";Ungroomed jet p_{T} (GeV);#frac{d#sigma}{dp_{T}} (pb/GeV)\" )\n",
    "\n",
    "\n",
    "\n"
   ]
  },
  {
   "cell_type": "markdown",
   "metadata": {},
   "source": [
    "\n",
    "#### Then plot uncertainties\n"
   ]
  },
  {
   "cell_type": "code",
   "execution_count": 7,
   "metadata": {},
   "outputs": [
    {
     "name": "stdout",
     "output_type": "stream",
     "text": [
      "123597.850816\n",
      "123328.214753\n"
     ]
    },
    {
     "name": "stderr",
     "output_type": "stream",
     "text": [
      "Info in <TCanvas::Print>: png file uncertainties_ungroomed_absolute1.png has been created\n",
      "Info in <TCanvas::Print>: pdf file uncertainties_ungroomed_absolute1.pdf has been created\n",
      "Info in <TCanvas::Print>: png file uncertainties_ungroomed_absolute2.png has been created\n",
      "Info in <TCanvas::Print>: pdf file uncertainties_ungroomed_absolute2.pdf has been created\n",
      "Info in <TCanvas::Print>: png file uncertainties_ungroomed_absolute3.png has been created\n",
      "Info in <TCanvas::Print>: pdf file uncertainties_ungroomed_absolute3.pdf has been created\n",
      "Info in <TCanvas::Print>: png file uncertainties_ungroomed_absolute4.png has been created\n",
      "Info in <TCanvas::Print>: pdf file uncertainties_ungroomed_absolute4.pdf has been created\n",
      "Info in <TCanvas::Print>: png file uncertainties_ungroomed_absolute5.png has been created\n",
      "Info in <TCanvas::Print>: pdf file uncertainties_ungroomed_absolute5.pdf has been created\n",
      "Info in <TCanvas::Print>: png file uncertainties_ungroomed_absolute6.png has been created\n",
      "Info in <TCanvas::Print>: pdf file uncertainties_ungroomed_absolute6.pdf has been created\n",
      "Info in <TCanvas::Print>: png file uncertainties_ungroomed_absolute7.png has been created\n",
      "Info in <TCanvas::Print>: pdf file uncertainties_ungroomed_absolute7.pdf has been created\n",
      "Info in <TCanvas::Print>: png file uncertainties_ungroomed_absolute8.png has been created\n",
      "Info in <TCanvas::Print>: pdf file uncertainties_ungroomed_absolute8.pdf has been created\n",
      "Info in <TCanvas::Print>: png file uncertainties_ungroomed_absolute9.png has been created\n",
      "Info in <TCanvas::Print>: pdf file uncertainties_ungroomed_absolute9.pdf has been created\n",
      "Info in <TCanvas::Print>: png file uncertainties_ungroomed_absolute10.png has been created\n",
      "Info in <TCanvas::Print>: pdf file uncertainties_ungroomed_absolute10.pdf has been created\n",
      "Info in <TCanvas::Print>: png file uncertainties_ungroomed_absolute11.png has been created\n",
      "Info in <TCanvas::Print>: pdf file uncertainties_ungroomed_absolute11.pdf has been created\n",
      "Info in <TCanvas::Print>: png file uncertainties_ungroomed_absolute12.png has been created\n",
      "Info in <TCanvas::Print>: pdf file uncertainties_ungroomed_absolute12.pdf has been created\n",
      "Info in <TCanvas::Print>: png file uncertainties_softdrop_absolute1.png has been created\n",
      "Info in <TCanvas::Print>: pdf file uncertainties_softdrop_absolute1.pdf has been created\n",
      "Info in <TCanvas::Print>: png file uncertainties_softdrop_absolute2.png has been created\n",
      "Info in <TCanvas::Print>: pdf file uncertainties_softdrop_absolute2.pdf has been created\n",
      "Info in <TCanvas::Print>: png file uncertainties_softdrop_absolute3.png has been created\n",
      "Info in <TCanvas::Print>: pdf file uncertainties_softdrop_absolute3.pdf has been created\n",
      "Info in <TCanvas::Print>: png file uncertainties_softdrop_absolute4.png has been created\n",
      "Info in <TCanvas::Print>: pdf file uncertainties_softdrop_absolute4.pdf has been created\n",
      "Info in <TCanvas::Print>: png file uncertainties_softdrop_absolute5.png has been created\n",
      "Info in <TCanvas::Print>: pdf file uncertainties_softdrop_absolute5.pdf has been created\n",
      "Info in <TCanvas::Print>: png file uncertainties_softdrop_absolute6.png has been created\n",
      "Info in <TCanvas::Print>: pdf file uncertainties_softdrop_absolute6.pdf has been created\n",
      "Info in <TCanvas::Print>: png file uncertainties_softdrop_absolute7.png has been created\n",
      "Info in <TCanvas::Print>: pdf file uncertainties_softdrop_absolute7.pdf has been created\n",
      "Info in <TCanvas::Print>: png file uncertainties_softdrop_absolute8.png has been created\n",
      "Info in <TCanvas::Print>: pdf file uncertainties_softdrop_absolute8.pdf has been created\n",
      "Info in <TCanvas::Print>: png file uncertainties_softdrop_absolute9.png has been created\n",
      "Info in <TCanvas::Print>: pdf file uncertainties_softdrop_absolute9.pdf has been created\n",
      "Info in <TCanvas::Print>: png file uncertainties_softdrop_absolute10.png has been created\n",
      "Info in <TCanvas::Print>: pdf file uncertainties_softdrop_absolute10.pdf has been created\n",
      "Info in <TCanvas::Print>: png file uncertainties_softdrop_absolute11.png has been created\n",
      "Info in <TCanvas::Print>: pdf file uncertainties_softdrop_absolute11.pdf has been created\n",
      "Info in <TCanvas::Print>: png file uncertainties_softdrop_absolute12.png has been created\n",
      "Info in <TCanvas::Print>: pdf file uncertainties_softdrop_absolute12.pdf has been created\n"
     ]
    }
   ],
   "source": [
    "uumc = RooUnfoldUnfolder(useSoftDrop=False,inputs='2DClosure',\n",
    "                       pythiaInputs=pythiafile,\n",
    "                       herwigInputs=herwigfile,\n",
    "                       powhegInputs=\"CMS_SMP_16_010.root\",\n",
    "                       normalizeUnity=False, scalePtBins=False, lumi=lumi, postfix=\"ungroomed_absolute\")\n",
    "ugmc = RooUnfoldUnfolder(useSoftDrop=True,inputs='2DClosure',\n",
    "                       pythiaInputs=pythiafile,\n",
    "                       herwigInputs=herwigfile,\n",
    "                       powhegInputs=\"CMS_SMP_16_010.root\",\n",
    "                       normalizeUnity=False, scalePtBins=False, lumi=lumi, postfix=\"softdrop_absolute\") \n",
    "\n",
    "uumc.plotFullUncs( hists=uumc.uncertainties )\n",
    "ugmc.plotFullUncs( hists=ugmc.uncertainties )\n",
    "\n",
    "\n"
   ]
  },
  {
   "cell_type": "markdown",
   "metadata": {},
   "source": [
    "#### Normalized cross section, ungroomed"
   ]
  },
  {
   "cell_type": "code",
   "execution_count": 8,
   "metadata": {},
   "outputs": [
    {
     "name": "stdout",
     "output_type": "stream",
     "text": [
      "254535951.654\n"
     ]
    },
    {
     "name": "stderr",
     "output_type": "stream",
     "text": [
      "Info in <TCanvas::Print>: png file fullxs_normalized1.png has been created\n",
      "Info in <TCanvas::Print>: pdf file fullxs_normalized1.pdf has been created\n",
      "Info in <TCanvas::Print>: png file fullxs_normalized2.png has been created\n",
      "Info in <TCanvas::Print>: pdf file fullxs_normalized2.pdf has been created\n",
      "Info in <TCanvas::Print>: png file fullxs_normalized3.png has been created\n",
      "Info in <TCanvas::Print>: pdf file fullxs_normalized3.pdf has been created\n",
      "Info in <TCanvas::Print>: png file fullxs_normalized4.png has been created\n",
      "Info in <TCanvas::Print>: pdf file fullxs_normalized4.pdf has been created\n",
      "Info in <TCanvas::Print>: png file fullxs_normalized5.png has been created\n",
      "Info in <TCanvas::Print>: pdf file fullxs_normalized5.pdf has been created\n",
      "Info in <TCanvas::Print>: png file fullxs_normalized6.png has been created\n",
      "Info in <TCanvas::Print>: pdf file fullxs_normalized6.pdf has been created\n",
      "Info in <TCanvas::Print>: png file fullxs_normalized7.png has been created\n",
      "Info in <TCanvas::Print>: pdf file fullxs_normalized7.pdf has been created\n",
      "Info in <TCanvas::Print>: png file fullxs_normalized8.png has been created\n",
      "Info in <TCanvas::Print>: pdf file fullxs_normalized8.pdf has been created\n",
      "Info in <TCanvas::Print>: png file fullxs_normalized9.png has been created\n",
      "Info in <TCanvas::Print>: pdf file fullxs_normalized9.pdf has been created\n",
      "Info in <TCanvas::Print>: png file fullxs_normalized10.png has been created\n",
      "Info in <TCanvas::Print>: pdf file fullxs_normalized10.pdf has been created\n",
      "Info in <TCanvas::Print>: png file fullxs_normalized11.png has been created\n",
      "Info in <TCanvas::Print>: pdf file fullxs_normalized11.pdf has been created\n",
      "Info in <TCanvas::Print>: png file fullxs_normalized12.png has been created\n",
      "Info in <TCanvas::Print>: pdf file fullxs_normalized12.pdf has been created\n"
     ]
    }
   ],
   "source": [
    "# Now normalized cross section\n",
    "uu_norm = RooUnfoldUnfolder(useSoftDrop=False,\n",
    "                       pythiaInputs=pythiafile,\n",
    "                       herwigInputs=herwigfile,\n",
    "                       powhegInputs=\"CMS_SMP_16_010.root\",\n",
    "                       normalizeUnity=True, scalePtBins=True, lumi=lumi,\n",
    "                       postfix=\"normalized\")\n",
    "\n",
    "uu_norm.plotFullXSProjections( hists=[uu_norm.nom, uu_norm.nomStat,uu_norm.pythiaHist,uu_norm.herwigHist],\n",
    "                              styleNames=['nom','nomStat','pythia','herwig'] )\n"
   ]
  },
  {
   "cell_type": "markdown",
   "metadata": {},
   "source": [
    "#### Normalized cross section, groomed"
   ]
  },
  {
   "cell_type": "code",
   "execution_count": 9,
   "metadata": {},
   "outputs": [
    {
     "name": "stdout",
     "output_type": "stream",
     "text": [
      "250943650.465\n"
     ]
    },
    {
     "name": "stderr",
     "output_type": "stream",
     "text": [
      "Info in <TCanvas::Print>: png file fullxs_normalized_softdrop1.png has been created\n",
      "Info in <TCanvas::Print>: pdf file fullxs_normalized_softdrop1.pdf has been created\n",
      "Info in <TCanvas::Print>: png file fullxs_normalized_softdrop2.png has been created\n",
      "Info in <TCanvas::Print>: pdf file fullxs_normalized_softdrop2.pdf has been created\n",
      "Info in <TCanvas::Print>: png file fullxs_normalized_softdrop3.png has been created\n",
      "Info in <TCanvas::Print>: pdf file fullxs_normalized_softdrop3.pdf has been created\n",
      "Info in <TCanvas::Print>: png file fullxs_normalized_softdrop4.png has been created\n",
      "Info in <TCanvas::Print>: pdf file fullxs_normalized_softdrop4.pdf has been created\n",
      "Info in <TCanvas::Print>: png file fullxs_normalized_softdrop5.png has been created\n",
      "Info in <TCanvas::Print>: pdf file fullxs_normalized_softdrop5.pdf has been created\n",
      "Info in <TCanvas::Print>: png file fullxs_normalized_softdrop6.png has been created\n",
      "Info in <TCanvas::Print>: pdf file fullxs_normalized_softdrop6.pdf has been created\n",
      "Info in <TCanvas::Print>: png file fullxs_normalized_softdrop7.png has been created\n",
      "Info in <TCanvas::Print>: pdf file fullxs_normalized_softdrop7.pdf has been created\n",
      "Info in <TCanvas::Print>: png file fullxs_normalized_softdrop8.png has been created\n",
      "Info in <TCanvas::Print>: pdf file fullxs_normalized_softdrop8.pdf has been created\n",
      "Info in <TCanvas::Print>: png file fullxs_normalized_softdrop9.png has been created\n",
      "Info in <TCanvas::Print>: pdf file fullxs_normalized_softdrop9.pdf has been created\n",
      "Info in <TCanvas::Print>: png file fullxs_normalized_softdrop10.png has been created\n",
      "Info in <TCanvas::Print>: pdf file fullxs_normalized_softdrop10.pdf has been created\n",
      "Info in <TCanvas::Print>: png file fullxs_normalized_softdrop11.png has been created\n",
      "Info in <TCanvas::Print>: pdf file fullxs_normalized_softdrop11.pdf has been created\n",
      "Info in <TCanvas::Print>: png file fullxs_normalized_softdrop12.png has been created\n",
      "Info in <TCanvas::Print>: pdf file fullxs_normalized_softdrop12.pdf has been created\n"
     ]
    }
   ],
   "source": [
    "\n",
    "ug_norm = RooUnfoldUnfolder(useSoftDrop=True,\n",
    "                       pythiaInputs=pythiafile,\n",
    "                       herwigInputs=herwigfile,\n",
    "                       powhegInputs=\"CMS_SMP_16_010.root\",\n",
    "                       normalizeUnity=True, scalePtBins=True, lumi=lumi,\n",
    "                       postfix=\"normalized_softdrop\")\n",
    "\n",
    "ug_norm.plotFullXSProjections( hists=[ug_norm.nom, ug_norm.nomStat,ug_norm.pythiaHist,ug_norm.herwigHist],\n",
    "                              styleNames=['nom','nomStat','pythia','herwig'] )\n",
    "\n",
    "\n"
   ]
  },
  {
   "cell_type": "markdown",
   "metadata": {},
   "source": [
    "#### Plot 2d cross sections"
   ]
  },
  {
   "cell_type": "code",
   "execution_count": 10,
   "metadata": {
    "collapsed": true
   },
   "outputs": [],
   "source": [
    "uu_norm.draw2D(\"absolute_ungroomed\")"
   ]
  },
  {
   "cell_type": "code",
   "execution_count": 11,
   "metadata": {
    "collapsed": true
   },
   "outputs": [],
   "source": [
    "ug_norm.draw2D(\"absolute_groomed\") "
   ]
  },
  {
   "cell_type": "code",
   "execution_count": 12,
   "metadata": {
    "collapsed": true
   },
   "outputs": [],
   "source": [
    "uu_norm.draw2D(\"normalized_ungroomed\")"
   ]
  },
  {
   "cell_type": "code",
   "execution_count": 13,
   "metadata": {
    "collapsed": true
   },
   "outputs": [],
   "source": [
    "ug_norm.draw2D(\"normalized_groomed\")"
   ]
  },
  {
   "cell_type": "markdown",
   "metadata": {},
   "source": [
    "#### Ungroomed uncertainties, normalized"
   ]
  },
  {
   "cell_type": "code",
   "execution_count": 14,
   "metadata": {},
   "outputs": [
    {
     "name": "stdout",
     "output_type": "stream",
     "text": [
      "123597.850816\n"
     ]
    },
    {
     "name": "stderr",
     "output_type": "stream",
     "text": [
      "Info in <TCanvas::Print>: png file uncertainties_ungroomed1.png has been created\n",
      "Info in <TCanvas::Print>: pdf file uncertainties_ungroomed1.pdf has been created\n",
      "Info in <TCanvas::Print>: png file uncertainties_ungroomed2.png has been created\n",
      "Info in <TCanvas::Print>: pdf file uncertainties_ungroomed2.pdf has been created\n",
      "Info in <TCanvas::Print>: png file uncertainties_ungroomed3.png has been created\n",
      "Info in <TCanvas::Print>: pdf file uncertainties_ungroomed3.pdf has been created\n",
      "Info in <TCanvas::Print>: png file uncertainties_ungroomed4.png has been created\n",
      "Info in <TCanvas::Print>: pdf file uncertainties_ungroomed4.pdf has been created\n",
      "Info in <TCanvas::Print>: png file uncertainties_ungroomed5.png has been created\n",
      "Info in <TCanvas::Print>: pdf file uncertainties_ungroomed5.pdf has been created\n",
      "Info in <TCanvas::Print>: png file uncertainties_ungroomed6.png has been created\n",
      "Info in <TCanvas::Print>: pdf file uncertainties_ungroomed6.pdf has been created\n",
      "Info in <TCanvas::Print>: png file uncertainties_ungroomed7.png has been created\n",
      "Info in <TCanvas::Print>: pdf file uncertainties_ungroomed7.pdf has been created\n",
      "Info in <TCanvas::Print>: png file uncertainties_ungroomed8.png has been created\n",
      "Info in <TCanvas::Print>: pdf file uncertainties_ungroomed8.pdf has been created\n",
      "Info in <TCanvas::Print>: png file uncertainties_ungroomed9.png has been created\n",
      "Info in <TCanvas::Print>: pdf file uncertainties_ungroomed9.pdf has been created\n",
      "Info in <TCanvas::Print>: png file uncertainties_ungroomed10.png has been created\n",
      "Info in <TCanvas::Print>: pdf file uncertainties_ungroomed10.pdf has been created\n",
      "Info in <TCanvas::Print>: png file uncertainties_ungroomed11.png has been created\n",
      "Info in <TCanvas::Print>: pdf file uncertainties_ungroomed11.pdf has been created\n",
      "Info in <TCanvas::Print>: png file uncertainties_ungroomed12.png has been created\n",
      "Info in <TCanvas::Print>: pdf file uncertainties_ungroomed12.pdf has been created\n"
     ]
    }
   ],
   "source": [
    "\n",
    "\n",
    "uumc_norm = RooUnfoldUnfolder(useSoftDrop=False, inputs=\"2DClosure\",\n",
    "                       pythiaInputs=pythiafile,\n",
    "                       herwigInputs=herwigfile,\n",
    "                       powhegInputs=\"CMS_SMP_16_010.root\",\n",
    "                       normalizeUnity=True, scalePtBins=True, lumi=lumi, postfix=\"ungroomed\")\n",
    "\n",
    "\n",
    "uumc_norm.plotFullUncs( hists=uumc_norm.uncertainties)\n",
    "\n"
   ]
  },
  {
   "cell_type": "markdown",
   "metadata": {},
   "source": [
    "#### Groomed uncertainties, normalized"
   ]
  },
  {
   "cell_type": "code",
   "execution_count": 15,
   "metadata": {},
   "outputs": [
    {
     "name": "stdout",
     "output_type": "stream",
     "text": [
      "123328.214753\n"
     ]
    },
    {
     "name": "stderr",
     "output_type": "stream",
     "text": [
      "Info in <TCanvas::Print>: png file uncertainties_softdrop1.png has been created\n",
      "Info in <TCanvas::Print>: pdf file uncertainties_softdrop1.pdf has been created\n",
      "Info in <TCanvas::Print>: png file uncertainties_softdrop2.png has been created\n",
      "Info in <TCanvas::Print>: pdf file uncertainties_softdrop2.pdf has been created\n",
      "Info in <TCanvas::Print>: png file uncertainties_softdrop3.png has been created\n",
      "Info in <TCanvas::Print>: pdf file uncertainties_softdrop3.pdf has been created\n",
      "Info in <TCanvas::Print>: png file uncertainties_softdrop4.png has been created\n",
      "Info in <TCanvas::Print>: pdf file uncertainties_softdrop4.pdf has been created\n",
      "Info in <TCanvas::Print>: png file uncertainties_softdrop5.png has been created\n",
      "Info in <TCanvas::Print>: pdf file uncertainties_softdrop5.pdf has been created\n",
      "Info in <TCanvas::Print>: png file uncertainties_softdrop6.png has been created\n",
      "Info in <TCanvas::Print>: pdf file uncertainties_softdrop6.pdf has been created\n",
      "Info in <TCanvas::Print>: png file uncertainties_softdrop7.png has been created\n",
      "Info in <TCanvas::Print>: pdf file uncertainties_softdrop7.pdf has been created\n",
      "Info in <TCanvas::Print>: png file uncertainties_softdrop8.png has been created\n",
      "Info in <TCanvas::Print>: pdf file uncertainties_softdrop8.pdf has been created\n",
      "Info in <TCanvas::Print>: png file uncertainties_softdrop9.png has been created\n",
      "Info in <TCanvas::Print>: pdf file uncertainties_softdrop9.pdf has been created\n",
      "Info in <TCanvas::Print>: png file uncertainties_softdrop10.png has been created\n",
      "Info in <TCanvas::Print>: pdf file uncertainties_softdrop10.pdf has been created\n",
      "Info in <TCanvas::Print>: png file uncertainties_softdrop11.png has been created\n",
      "Info in <TCanvas::Print>: pdf file uncertainties_softdrop11.pdf has been created\n",
      "Info in <TCanvas::Print>: png file uncertainties_softdrop12.png has been created\n",
      "Info in <TCanvas::Print>: pdf file uncertainties_softdrop12.pdf has been created\n"
     ]
    }
   ],
   "source": [
    "\n",
    "ugmc_norm = RooUnfoldUnfolder(useSoftDrop=True, inputs=\"2DClosure\",\n",
    "                       pythiaInputs=pythiafile,\n",
    "                       herwigInputs=herwigfile,\n",
    "                       powhegInputs=\"CMS_SMP_16_010.root\",\n",
    "                       normalizeUnity=True, scalePtBins=True, lumi=lumi,  postfix=\"softdrop\")\n",
    "\n",
    "ugmc_norm.plotFullUncs(hists=ugmc_norm.uncertainties)\n",
    "\n"
   ]
  },
  {
   "cell_type": "code",
   "execution_count": null,
   "metadata": {
    "collapsed": true
   },
   "outputs": [],
   "source": []
  }
 ],
 "metadata": {
  "kernelspec": {
   "display_name": "Python 2",
   "language": "python",
   "name": "python2"
  },
  "language_info": {
   "codemirror_mode": {
    "name": "ipython",
    "version": 2
   },
   "file_extension": ".py",
   "mimetype": "text/x-python",
   "name": "python",
   "nbconvert_exporter": "python",
   "pygments_lexer": "ipython2",
   "version": "2.7.10"
  }
 },
 "nbformat": 4,
 "nbformat_minor": 2
}
