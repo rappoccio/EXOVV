{
 "cells": [
  {
   "cell_type": "code",
   "execution_count": null,
   "metadata": {},
   "outputs": [],
   "source": [
    "import ROOT\n",
    "from Unfolder import *\n",
    "\n",
    "ROOT.gROOT.Macro(\"rootlogon.C\")\n",
    "\n"
   ]
  },
  {
   "cell_type": "code",
   "execution_count": null,
   "metadata": {
    "collapsed": true
   },
   "outputs": [],
   "source": [
    "ROOT.gStyle.SetOptStat(000000)\n",
    "ROOT.gStyle.SetTitleOffset(1.0, \"Y\");\n",
    "ROOT.gStyle.SetPadRightMargin(0.15)\n",
    "ROOT.gStyle.SetTitleFont(43,\"XYZ\")\n",
    "ROOT.gStyle.SetTitleSize(30,\"XYZ\")\n",
    "ROOT.gStyle.SetTitleOffset(1.0, \"X\")\n",
    "ROOT.gStyle.SetTitleOffset(0.8, \"Y\")\n",
    "ROOT.gStyle.SetLabelFont(43,\"XYZ\")\n",
    "ROOT.gStyle.SetLabelSize(22,\"XYZ\")\n",
    "\n",
    "lumi = 2.3e3\n",
    "\n",
    "pythiafile = \"responses_jecsrcs_otherway_qcdmc_2dplots.root\"\n",
    "herwigfile = \"qcdmc_herwig_otherway_jecsrcs_2dplots.root\"\n"
   ]
  },
  {
   "cell_type": "markdown",
   "metadata": {},
   "source": [
    "#### Absolute cross section for ungroomed jets"
   ]
  },
  {
   "cell_type": "code",
   "execution_count": null,
   "metadata": {
    "collapsed": true
   },
   "outputs": [],
   "source": [
    "uu = RooUnfoldUnfolder(useSoftDrop=False,\n",
    "                       pythiaInputs=pythiafile,\n",
    "                       herwigInputs=herwigfile,\n",
    "                       powhegInputs=\"CMS_SMP_16_010.root\",\n",
    "                       normalizeUnity=False, scalePtBins=False, lumi=lumi,\n",
    "                       postfix=\"absolute\") \n",
    "\n",
    "print 'data integral:' , uu.nom.Integral() \n",
    "print 'pythia integral:' , uu.pythiaHist.Integral()\n",
    "print 'herwig integral:' , uu.herwigHist.Integral() \n",
    "\n",
    "uu.plotFullXSProjections( hists=[uu.nom, uu.nomStat,uu.pythiaHist,uu.herwigHist],\n",
    "                              styleNames=['nom','nomStat','pythia','herwig'] )\n",
    "\n",
    "\n"
   ]
  },
  {
   "cell_type": "markdown",
   "metadata": {},
   "source": [
    "#### Absolute cross section for groomed jets. "
   ]
  },
  {
   "cell_type": "code",
   "execution_count": null,
   "metadata": {
    "collapsed": true
   },
   "outputs": [],
   "source": [
    "\n",
    "ug = RooUnfoldUnfolder(useSoftDrop=True,\n",
    "                       pythiaInputs=pythiafile,\n",
    "                       herwigInputs=herwigfile,\n",
    "                       powhegInputs=\"CMS_SMP_16_010.root\",\n",
    "                       normalizeUnity=False, scalePtBins=False, lumi=lumi,\n",
    "                       postfix=\"absolute_softdrop\") \n",
    "\n",
    "ug.plotFullXSProjections( hists=[ug.nom, ug.nomStat,ug.pythiaHist,ug.herwigHist],\n",
    "                              styleNames=['nom','nomStat','pythia','herwig'] )\n"
   ]
  },
  {
   "cell_type": "markdown",
   "metadata": {
    "collapsed": true
   },
   "source": [
    "#### Absolute cross section wrt pt"
   ]
  },
  {
   "cell_type": "code",
   "execution_count": null,
   "metadata": {
    "collapsed": true
   },
   "outputs": [],
   "source": [
    "uu.plotPtDist( hists=[uu.nom, uu.nomStat, uu.pythiaHist, uu.herwigHist],\n",
    "                   styleNames=['nom','nomStat','pythia','herwig'],\n",
    "                   filename = \"pt_xs\", title=\";Ungroomed jet p_{T} (GeV);#frac{d#sigma}{dp_{T}} (pb/GeV)\" )\n",
    "\n",
    "\n",
    "\n"
   ]
  },
  {
   "cell_type": "markdown",
   "metadata": {},
   "source": [
    "\n",
    "#### Then plot uncertainties\n"
   ]
  },
  {
   "cell_type": "code",
   "execution_count": null,
   "metadata": {},
   "outputs": [],
   "source": [
    "uumc = RooUnfoldUnfolder(useSoftDrop=False,inputs='2DClosure',\n",
    "                       pythiaInputs=pythiafile,\n",
    "                       herwigInputs=herwigfile,\n",
    "                       powhegInputs=\"CMS_SMP_16_010.root\",\n",
    "                       normalizeUnity=False, scalePtBins=False, lumi=lumi, postfix=\"ungroomed_absolute\")\n",
    "ugmc = RooUnfoldUnfolder(useSoftDrop=True,inputs='2DClosure',\n",
    "                       pythiaInputs=pythiafile,\n",
    "                       herwigInputs=herwigfile,\n",
    "                       powhegInputs=\"CMS_SMP_16_010.root\",\n",
    "                       normalizeUnity=False, scalePtBins=False, lumi=lumi, postfix=\"softdrop_absolute\") \n",
    "\n",
    "uumc.plotFullUncs( )\n",
    "ugmc.plotFullUncs( )\n",
    "\n",
    "\n"
   ]
  },
  {
   "cell_type": "markdown",
   "metadata": {},
   "source": [
    "#### Normalized cross section, ungroomed"
   ]
  },
  {
   "cell_type": "code",
   "execution_count": null,
   "metadata": {},
   "outputs": [],
   "source": [
    "# Now normalized cross section\n",
    "uu_norm = RooUnfoldUnfolder(useSoftDrop=False,\n",
    "                       pythiaInputs=pythiafile,\n",
    "                       herwigInputs=herwigfile,\n",
    "                       powhegInputs=\"CMS_SMP_16_010.root\",\n",
    "                       normalizeUnity=True, scalePtBins=True, lumi=lumi,\n",
    "                       postfix=\"normalized\")\n",
    "\n",
    "uu_norm.plotFullXSProjections( hists=[uu_norm.nom, uu_norm.nomStat,uu_norm.pythiaHist,uu_norm.herwigHist],\n",
    "                              styleNames=['nom','nomStat','pythia','herwig'] )\n"
   ]
  },
  {
   "cell_type": "markdown",
   "metadata": {},
   "source": [
    "#### Normalized cross section, groomed"
   ]
  },
  {
   "cell_type": "code",
   "execution_count": null,
   "metadata": {},
   "outputs": [],
   "source": [
    "\n",
    "ug_norm = RooUnfoldUnfolder(useSoftDrop=True,\n",
    "                       pythiaInputs=pythiafile,\n",
    "                       herwigInputs=herwigfile,\n",
    "                       powhegInputs=\"CMS_SMP_16_010.root\",\n",
    "                       normalizeUnity=True, scalePtBins=True, lumi=lumi,\n",
    "                       postfix=\"normalized_softdrop\")\n",
    "\n",
    "ug_norm.plotFullXSProjections( hists=[ug_norm.nom, ug_norm.nomStat,ug_norm.pythiaHist,ug_norm.herwigHist],\n",
    "                              styleNames=['nom','nomStat','pythia','herwig'] )\n",
    "\n",
    "\n"
   ]
  },
  {
   "cell_type": "markdown",
   "metadata": {},
   "source": [
    "#### Plot 2d cross sections"
   ]
  },
  {
   "cell_type": "code",
   "execution_count": null,
   "metadata": {},
   "outputs": [],
   "source": [
    "uu_norm.draw2D(\"absolute_ungroomed\")"
   ]
  },
  {
   "cell_type": "code",
   "execution_count": null,
   "metadata": {},
   "outputs": [],
   "source": [
    "ug_norm.draw2D(\"absolute_groomed\") "
   ]
  },
  {
   "cell_type": "code",
   "execution_count": null,
   "metadata": {},
   "outputs": [],
   "source": [
    "uu_norm.draw2D(\"normalized_ungroomed\")"
   ]
  },
  {
   "cell_type": "code",
   "execution_count": null,
   "metadata": {},
   "outputs": [],
   "source": [
    "ug_norm.draw2D(\"normalized_groomed\")"
   ]
  },
  {
   "cell_type": "markdown",
   "metadata": {},
   "source": [
    "#### Ungroomed uncertainties, normalized"
   ]
  },
  {
   "cell_type": "code",
   "execution_count": null,
   "metadata": {},
   "outputs": [],
   "source": [
    "\n",
    "\n",
    "uumc_norm = RooUnfoldUnfolder(useSoftDrop=False, inputs=\"2DClosure\",\n",
    "                       pythiaInputs=pythiafile,\n",
    "                       herwigInputs=herwigfile,\n",
    "                       powhegInputs=\"CMS_SMP_16_010.root\",\n",
    "                       normalizeUnity=True, scalePtBins=True, lumi=lumi, postfix=\"ungroomed\")\n",
    "\n",
    "\n",
    "uumc_norm.plotFullUncs( )\n",
    "\n"
   ]
  },
  {
   "cell_type": "markdown",
   "metadata": {},
   "source": [
    "#### Groomed uncertainties, normalized"
   ]
  },
  {
   "cell_type": "code",
   "execution_count": null,
   "metadata": {},
   "outputs": [],
   "source": [
    "\n",
    "ugmc_norm = RooUnfoldUnfolder(useSoftDrop=True, inputs=\"2DClosure\",\n",
    "                       pythiaInputs=pythiafile,\n",
    "                       herwigInputs=herwigfile,\n",
    "                       powhegInputs=\"CMS_SMP_16_010.root\",\n",
    "                       normalizeUnity=True, scalePtBins=True, lumi=lumi,  postfix=\"softdrop\")\n",
    "\n",
    "ugmc_norm.plotFullUncs()\n",
    "\n"
   ]
  },
  {
   "cell_type": "code",
   "execution_count": null,
   "metadata": {
    "collapsed": true
   },
   "outputs": [],
   "source": []
  }
 ],
 "metadata": {
  "kernelspec": {
   "display_name": "Python 2",
   "language": "python",
   "name": "python2"
  },
  "language_info": {
   "codemirror_mode": {
    "name": "ipython",
    "version": 2
   },
   "file_extension": ".py",
   "mimetype": "text/x-python",
   "name": "python",
   "nbconvert_exporter": "python",
   "pygments_lexer": "ipython2",
   "version": "2.7.10"
  }
 },
 "nbformat": 4,
 "nbformat_minor": 2
}
